{
 "cells": [
  {
   "cell_type": "code",
   "execution_count": 16,
   "metadata": {
    "collapsed": true
   },
   "outputs": [],
   "source": [
    "\"\"\"\n",
    "Merge two sorted linked lists and return it as a new list.\n",
    "The new list should be made by splicing together the nodes of the first two lists.\n",
    "\"\"\"\n",
    "\n",
    "class ListNode(object):\n",
    "    def __init__(self, x):\n",
    "        self.val = x\n",
    "        self.next = None\n",
    "    \n",
    "    def __repr__(self):\n",
    "        \n",
    "        s = []\n",
    "        \n",
    "        curr = self\n",
    "        \n",
    "        while curr is not None:\n",
    "            s.append(str(curr.val))\n",
    "            curr = curr.next\n",
    "            \n",
    "        return '-->'.join(s) "
   ]
  },
  {
   "cell_type": "code",
   "execution_count": 39,
   "metadata": {
    "collapsed": false
   },
   "outputs": [
    {
     "data": {
      "text/plain": [
       "(0-->3-->6-->9-->12, 4-->8, 0-->3-->4-->6-->8-->9-->12)"
      ]
     },
     "execution_count": 39,
     "metadata": {},
     "output_type": "execute_result"
    }
   ],
   "source": [
    "\n",
    "def create_two_example_lists():\n",
    "    def connect_nodes(lst):\n",
    "        prev = lst[0]\n",
    "        for node in lst[1:]:\n",
    "            prev.next = node\n",
    "            prev = node\n",
    "\n",
    "        return lst[0]\n",
    "\n",
    "    l1 = connect_nodes([ListNode(i) for i in range(15) if i % 3 == 0])\n",
    "    l2 = connect_nodes([ListNode(i) for i in range(10) if i % 4 == 0 and i != 0])\n",
    "    \n",
    "    l3 = connect_nodes([ListNode(i) for i in range(15) if i % 3 == 0 or i % 4 == 0])\n",
    "    \n",
    "    \n",
    "    \n",
    "    \n",
    "    return l1, l2, l3 \n",
    "\n",
    "\n",
    "list_one, list_two, one_two_sorted = create_two_example_lists()\n",
    "list_one, list_two, one_two_sorted\n",
    "\n",
    "# l1:\n",
    "# l2: \n",
    "\n",
    "0-->3--> 4 -> 6-->9-->12\n",
    "\n",
    "# sorted: 0-->3-->4-->6-->8-->9-->12\n"
   ]
  },
  {
   "cell_type": "code",
   "execution_count": 41,
   "metadata": {
    "collapsed": false
   },
   "outputs": [
    {
     "data": {
      "text/plain": [
       "0-->3-->4-->6-->8-->9-->12"
      ]
     },
     "execution_count": 41,
     "metadata": {},
     "output_type": "execute_result"
    }
   ],
   "source": [
    "class Solution(object):\n",
    "    \n",
    "    def mergeTwoLists(self, l1, l2):\n",
    "        \"\"\"\n",
    "        :type l1: ListNode\n",
    "        :type l2: ListNode\n",
    "        :rtype: ListNode\n",
    "        \"\"\"\n",
    "        \n",
    "        if l1 is None and l2 is None:\n",
    "            return None\n",
    "        \n",
    "        def merge(head, current, l1_rest, l2_rest):\n",
    "            \n",
    "            if l1_rest is None:\n",
    "                current.next = l2_rest\n",
    "                return head\n",
    "            \n",
    "            if l2_rest is None:\n",
    "                current.next = l1_rest\n",
    "                return head\n",
    "            \n",
    "            l1_val, l2_val = l1_rest.val, l2_rest.val\n",
    "            \n",
    "            if l2_val <= l1_val:\n",
    "                current.next = ListNode(l2_val)\n",
    "                return merge(head, current.next, l1_rest, l2_rest.next)\n",
    "            else:\n",
    "                current.next = ListNode(l1_val)\n",
    "                return merge(head, current.next, l1_rest.next, l2_rest)\n",
    "        \n",
    "        dummy = ListNode(None) \n",
    "        return merge(dummy, dummy, l1, l2).next\n",
    "        \n",
    "   \n",
    "run = Solution()\n",
    "run.mergeTwoLists(list_one, list_two)"
   ]
  },
  {
   "cell_type": "code",
   "execution_count": null,
   "metadata": {
    "collapsed": true
   },
   "outputs": [],
   "source": []
  }
 ],
 "metadata": {
  "kernelspec": {
   "display_name": "Python 3",
   "language": "python",
   "name": "python3"
  },
  "language_info": {
   "codemirror_mode": {
    "name": "ipython",
    "version": 3
   },
   "file_extension": ".py",
   "mimetype": "text/x-python",
   "name": "python",
   "nbconvert_exporter": "python",
   "pygments_lexer": "ipython3",
   "version": "3.6.0"
  }
 },
 "nbformat": 4,
 "nbformat_minor": 2
}
