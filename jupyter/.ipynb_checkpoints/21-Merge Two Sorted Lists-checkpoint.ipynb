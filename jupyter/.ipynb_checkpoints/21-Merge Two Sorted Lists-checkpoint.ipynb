{
 "cells": [
  {
   "cell_type": "code",
   "execution_count": 62,
   "metadata": {
    "collapsed": false,
    "deletable": true,
    "editable": true
   },
   "outputs": [
    {
     "data": {
      "text/plain": [
       "0-->3-->4-->6-->8-->9-->12"
      ]
     },
     "execution_count": 62,
     "metadata": {},
     "output_type": "execute_result"
    }
   ],
   "source": [
    "class ListNode(object):\n",
    "    def __init__(self, x):\n",
    "        self.val = x\n",
    "        self.next = None\n",
    "    \n",
    "    def __repr__(self):\n",
    "        \n",
    "        s = []\n",
    "        \n",
    "        curr = self\n",
    "        \n",
    "        while curr is not None:\n",
    "            s.append(str(curr.val))\n",
    "            curr = curr.next\n",
    "            \n",
    "        return '-->'.join(s)\n",
    "        \n",
    "\n",
    "class Solution(object):\n",
    "    def mergeTwoLists(self, l1, l2):\n",
    "        \"\"\"\n",
    "        :type l1: ListNode\n",
    "        :type l2: ListNode\n",
    "        :rtype: ListNode\n",
    "        \"\"\"\n",
    "        \n",
    "        if l1 is None and l2 is None:\n",
    "            return None\n",
    "        \n",
    "        def merge(head, current, l1_rest, l2_rest):\n",
    "            \n",
    "            if l1_rest is None:\n",
    "                current.next = l2_rest\n",
    "                return head\n",
    "            elif l2_rest is None:\n",
    "                current.next = l1_rest\n",
    "                return head\n",
    "            \n",
    "            l1_val, l2_val = l1_rest.val, l2_rest.val\n",
    "\n",
    "            if l1_val >= l2_val:\n",
    "                current.next = ListNode(l2_val)\n",
    "                return sub(head, current.next, l1_rest, l2_rest.next)\n",
    "            else:\n",
    "                current.next = ListNode(l1_val)\n",
    "                return sub(head, current.next, l1_rest.next, l2_rest)\n",
    "\n",
    "        return sub(dummy.next,dummy, l1,l2)\n",
    "    \n",
    "\n",
    "def connect_nodes(lst):\n",
    "    prev = lst[0]\n",
    "    for node in lst[1:]:\n",
    "        prev.next = node\n",
    "        prev = node\n",
    "    \n",
    "    return lst[0]\n",
    "     \n",
    "list_one = connect_nodes([ListNode(i) for i in range(15) if i % 3 == 0])\n",
    "list_two = connect_nodes([ListNode(i) for i in range(10) if i % 4 == 0 and i != 0])\n",
    "\n",
    "\n",
    "list_one, list_two\n",
    "\n",
    "#run = Solution()\n",
    "\n",
    "run.mergeTwoLists(list_one, list_two)\n",
    "\n",
    "    "
   ]
  },
  {
   "cell_type": "code",
   "execution_count": null,
   "metadata": {
    "collapsed": true,
    "deletable": true,
    "editable": true
   },
   "outputs": [],
   "source": []
  },
  {
   "cell_type": "code",
   "execution_count": null,
   "metadata": {
    "collapsed": true
   },
   "outputs": [],
   "source": []
  }
 ],
 "metadata": {
  "kernelspec": {
   "display_name": "Python 3",
   "language": "python",
   "name": "python3"
  },
  "language_info": {
   "codemirror_mode": {
    "name": "ipython",
    "version": 3
   },
   "file_extension": ".py",
   "mimetype": "text/x-python",
   "name": "python",
   "nbconvert_exporter": "python",
   "pygments_lexer": "ipython3",
   "version": "3.6.0"
  }
 },
 "nbformat": 4,
 "nbformat_minor": 2
}
